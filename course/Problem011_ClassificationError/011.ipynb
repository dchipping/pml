{
 "cells": [
  {
   "cell_type": "markdown",
   "metadata": {
    "scrolled": true
   },
   "source": [
    "## Categorical cross entropy error\n",
    "\n",
    "$\n",
    "J = - \\frac{1}{N} \\sum\\limits_{i = 0}^{N} \\large{(} \\small y^{(i)}\\log\\left(\\hat{y}^{(i)}\\right) + (1-y^{(i)})\\log\\left(1- \\hat{y}^{(i)}\\right) \\large{)}\n",
    "$"
   ]
  },
  {
   "cell_type": "code",
   "execution_count": 3,
   "metadata": {},
   "outputs": [
    {
     "name": "stdout",
     "output_type": "stream",
     "text": [
      "Y_hat1: 0.010000000000000005\n",
      "Y_hat2: 0.9900000000000001\n",
      "Y_hat3: 0.29\n",
      "Y_hat4: 0.43\n"
     ]
    }
   ],
   "source": [
    "import numpy as np\n",
    "Y = np.array([1, 0, 0, 0, 1, 1, 0])\n",
    "\n",
    "# Following are the corrosponding Y_hat values from 4 classification models\n",
    "# TBD: Arrange the models from best to worst.\n",
    "from sklearn.metrics import mean_absolute_error as mae\n",
    "\n",
    "Y_hat1 = np.array([0.99, 0.01, 0.01, 0.01, 0.99, 0.99, 0.01])\n",
    "print(\"Y_hat1: \" + str(mae(Y, Y_hat1)))\n",
    "Y_hat2 = np.array([0.01, 0.99, 0.99, 0.99, 0.01, 0.01, 0.99])\n",
    "print(\"Y_hat2: \" + str(mae(Y, Y_hat2)))\n",
    "Y_hat3 = np.array([0.99, 0.01, 0.01, 0.99, 0.99, 0.01, 0.01])\n",
    "print(\"Y_hat3: \" + str(mae(Y, Y_hat3)))\n",
    "Y_hat4 = np.array([0.99, 0.01, 0.01, 0.99, 0.99, 0.01, 0.99])\n",
    "print(\"Y_hat4: \" + str(mae(Y, Y_hat4)))"
   ]
  },
  {
   "cell_type": "code",
   "execution_count": 4,
   "metadata": {},
   "outputs": [
    {
     "data": {
      "text/plain": [
       "0.010050335853501449"
      ]
     },
     "execution_count": 4,
     "metadata": {},
     "output_type": "execute_result"
    }
   ],
   "source": [
    "#TBD For above Y and Y_hat values compute categorical cross entropy error using sklearn library function\n",
    "from sklearn.metrics import log_loss\n",
    "log_loss(Y, Y_hat1)"
   ]
  },
  {
   "cell_type": "code",
   "execution_count": null,
   "metadata": {},
   "outputs": [],
   "source": []
  }
 ],
 "metadata": {
  "kernelspec": {
   "display_name": "Python 3",
   "language": "python",
   "name": "python3"
  },
  "language_info": {
   "codemirror_mode": {
    "name": "ipython",
    "version": 3
   },
   "file_extension": ".py",
   "mimetype": "text/x-python",
   "name": "python",
   "nbconvert_exporter": "python",
   "pygments_lexer": "ipython3",
   "version": "3.7.6"
  }
 },
 "nbformat": 4,
 "nbformat_minor": 2
}
