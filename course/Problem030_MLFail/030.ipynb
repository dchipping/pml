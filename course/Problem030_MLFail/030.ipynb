{
 "cells": [
  {
   "source": [
    "## Objective of ML Models: To work well on unseen data (i.e. to Generalize Well)"
   ],
   "cell_type": "markdown",
   "metadata": {}
  },
  {
   "source": [
    "## When do models dont generalize well?\n",
    "### Underfitting (High Bias)\n",
    "### Overfitting (High Variance)"
   ],
   "cell_type": "markdown",
   "metadata": {}
  },
  {
   "source": [
    "## Bias (overloaded term)\n",
    "### Bias as in bias and fairness e.g. ML algorithm is biased against minorities\n",
    "### Bias as in bias term (intercept) e.g. Bias terms can be initialized to 0\n",
    "### Bias as in high bias (underfitting) e.g. Linear regression is prone to high bias"
   ],
   "cell_type": "markdown",
   "metadata": {}
  },
  {
   "source": [
    "## Variance\n",
    "> \"If you torture data long enough, it will confess\"\n",
    "\n",
    "Tackling High variance (Overfitting)\n",
    "\n",
    "Regularization (penalizing complexity)\n",
    "* L1\n",
    "* L2\n"
   ],
   "cell_type": "markdown",
   "metadata": {}
  },
  {
   "cell_type": "code",
   "execution_count": null,
   "metadata": {},
   "outputs": [],
   "source": []
  },
  {
   "cell_type": "code",
   "execution_count": null,
   "metadata": {},
   "outputs": [],
   "source": []
  }
 ],
 "metadata": {
  "kernelspec": {
   "display_name": "Python 3",
   "language": "python",
   "name": "python3"
  },
  "language_info": {
   "codemirror_mode": {
    "name": "ipython",
    "version": 3
   },
   "file_extension": ".py",
   "mimetype": "text/x-python",
   "name": "python",
   "nbconvert_exporter": "python",
   "pygments_lexer": "ipython3",
   "version": "3.8.2-final"
  }
 },
 "nbformat": 4,
 "nbformat_minor": 2
}