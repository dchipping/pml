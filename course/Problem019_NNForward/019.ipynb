{
 "cells": [
  {
   "cell_type": "markdown",
   "metadata": {},
   "source": [
    "## Neural Network\n",
    "\n",
    "<img src=\"../../img/nn016.png\" width=\"900\">\n",
    "\n",
    "## TBD: For the given neural network above: \n",
    "* Produce a random weight matrix for Layer 1. (Just give proper shape)\n",
    "* For a first batch of inputs, produce activations from layer 1. (batch_size = 5) \n",
    "\n"
   ]
  },
  {
   "cell_type": "code",
   "execution_count": 29,
   "metadata": {},
   "outputs": [
    {
     "name": "stdout",
     "output_type": "stream",
     "text": [
      "(5, 3)\n"
     ]
    }
   ],
   "source": [
    "import numpy as np\n",
    "\n",
    "w = np.random.rand(2,3)\n",
    "\n",
    "x = np.array([\n",
    "    [0, 0],\n",
    "    [1, 0],\n",
    "    [0, 1],\n",
    "    [1, 1],\n",
    "    [2, 0]\n",
    "])\n",
    "\n",
    "z = np.dot(x, w)\n",
    "\n",
    "def Relu(x):\n",
    "    return x*(x > 0)\n",
    "\n",
    "a = Relu(z)\n",
    "print(a.shape)"
   ]
  },
  {
   "cell_type": "markdown",
   "metadata": {},
   "source": [
    "## MNIST Again (from keras)\n",
    "Below we initilize a 3 layer Neural network with 64, 64, 10 nodes each, using keras library.\n",
    "Dont worry about training yet, just work out the shapes of weight matrices in the Neural Net.\n"
   ]
  },
  {
   "cell_type": "code",
   "execution_count": 7,
   "metadata": {
    "scrolled": true
   },
   "outputs": [
    {
     "name": "stdout",
     "output_type": "stream",
     "text": [
      "(60000, 64)\n",
      "(64, 64)\n",
      "(64, 10)\n"
     ]
    }
   ],
   "source": [
    "# Imports\n",
    "import numpy as np\n",
    "from keras.datasets import mnist\n",
    "from keras.models import Sequential\n",
    "from keras.layers.core import Dense, Activation\n",
    "from keras.optimizers import SGD\n",
    "from keras.utils import np_utils\n",
    "\n",
    "(X_train, Y_train), (X_test, Y_test) = mnist.load_data()\n",
    "# print(X_train.shape)\n",
    "# print(Y_train.shape)\n",
    "# print(X_test.shape)\n",
    "\n",
    "# Reshape as feature vectors instead of 28X28 images\n",
    "# Downside of flattening to vectors is the obfuscation of spatial features (see CNN)\n",
    "X_train = X_train.reshape(60000, 28*28).astype('float32')\n",
    "X_test = X_test.reshape(10000, 28*28).astype('float32')\n",
    "\n",
    "# Encode Y as binary class vector\n",
    "Y_train = np_utils.to_categorical(Y_train, 10)\n",
    "Y_test = np_utils.to_categorical(Y_test, 10)\n",
    "\n",
    "# print(X_train.shape)\n",
    "# print(Y_train.shape)\n",
    "\n",
    "# Build a neural network\n",
    "model = Sequential()\n",
    "model.add(Dense(64, activation='relu', input_shape=(60000,)))\n",
    "model.add(Dense(64, activation='relu'))\n",
    "model.add(Dense(10, activation='softmax'))\n",
    "\n",
    "# Shape of weight matrices\n",
    "print(model.layers[0].get_weights()[0].shape)\n",
    "print(model.layers[1].get_weights()[0].shape)\n",
    "print(model.layers[2].get_weights()[0].shape)"
   ]
  },
  {
   "cell_type": "code",
   "execution_count": null,
   "metadata": {},
   "outputs": [],
   "source": []
  }
 ],
 "metadata": {
  "kernelspec": {
   "display_name": "Python 3",
   "language": "python",
   "name": "python3"
  },
  "language_info": {
   "codemirror_mode": {
    "name": "ipython",
    "version": 3
   },
   "file_extension": ".py",
   "mimetype": "text/x-python",
   "name": "python",
   "nbconvert_exporter": "python",
   "pygments_lexer": "ipython3",
   "version": "3.7.6"
  }
 },
 "nbformat": 4,
 "nbformat_minor": 2
}
