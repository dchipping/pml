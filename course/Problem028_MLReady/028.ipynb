{
 "cells": [
  {
   "source": [
    "## Titanic Datset\n",
    "## Predict passenger's survival in titanic accident, given the passenger attributes."
   ],
   "cell_type": "markdown",
   "metadata": {}
  },
  {
   "cell_type": "code",
   "execution_count": null,
   "metadata": {},
   "outputs": [],
   "source": [
    "from sklearn.datasets import fetch_openml\n",
    "d  = fetch_openml(name=\"Titanic\", as_frame=True, version=1)\n",
    "df = d[\"frame\"]\n",
    "# print(d['DESCR'])\n",
    "df.head(5)"
   ]
  },
  {
   "source": [
    "Types of features \n",
    "* Categorical (Number or Text)\n",
    "    * Ordinal\n",
    "    * Nominal\n",
    "* Numerical\n",
    "* Text\n",
    "    \n",
    "TBD: What is the type for following features. (choose from above)\n",
    "* name\n",
    "* sex\n",
    "* age\n",
    "* ticket\n",
    "* embarked (port of embarkment)\n",
    "* survived\n",
    "* parch (number of parents/children aboard)\n"
   ],
   "cell_type": "markdown",
   "metadata": {}
  },
  {
   "source": [
    "# Missing Data\n",
    "## TBD Which features in Titanic dataset has missing data"
   ],
   "cell_type": "markdown",
   "metadata": {}
  },
  {
   "source": [
    "## MLReady: Is data ready to be fed to a classification problem\n",
    "## TBD: What are 3 main issues that needs to be resolved in data"
   ],
   "cell_type": "markdown",
   "metadata": {}
  },
  {
   "source": [
    "import pandas as pd\n",
    "\n",
    "def cleaner(df):\n",
    "  for col_name in df.columns:    \n",
    "      if df[col_name].dtype.name == 'category': \n",
    "        # Convert categorical types\n",
    "        df[col_name] = df[col_name].cat.codes\n",
    "      if df[col_name].dtype.name == 'object':\n",
    "        df = df.drop(columns=[col_name])\n",
    "  return df\n",
    "\n",
    "def titanic_cleaner(df):\n",
    "    df = df.drop(columns = ['body']) \n",
    "    return df.dropna()\n",
    "\n",
    "#TBD Using above 2 naive cleaner functions clean the titanic dataframe \n"
   ],
   "cell_type": "code",
   "metadata": {},
   "execution_count": null,
   "outputs": []
  },
  {
   "source": [
    "## TBD Split the data into train test (test_size=0.25, random_state=101)"
   ],
   "cell_type": "markdown",
   "metadata": {}
  },
  {
   "cell_type": "code",
   "execution_count": null,
   "metadata": {},
   "outputs": [],
   "source": [
    "from sklearn.model_selection import train_test_split\n"
   ]
  },
  {
   "source": [
    "## TBD Apply Logistic Regression "
   ],
   "cell_type": "markdown",
   "metadata": {}
  },
  {
   "source": [
    "from sklearn.model_selection import train_test_split\n",
    "from sklearn.linear_model import LogisticRegression\n",
    "from sklearn.metrics import accuracy_score\n",
    "\n",
    "#TBD Accuracy Score on test set"
   ],
   "cell_type": "code",
   "metadata": {},
   "execution_count": null,
   "outputs": []
  },
  {
   "source": [
    "## TBD Apply KNeighborsClassifier, DecisionTreeClassifier, GradientBoostingClassifier"
   ],
   "cell_type": "markdown",
   "metadata": {}
  },
  {
   "cell_type": "code",
   "execution_count": 3,
   "metadata": {},
   "outputs": [],
   "source": [
    "from sklearn.neighbors import KNeighborsClassifier\n",
    "from sklearn.tree import DecisionTreeClassifier\n",
    "from sklearn.ensemble import GradientBoostingClassifier\n",
    "\n",
    "#TBD Accuracy Scores on test set for both models\n",
    "\n",
    "#These accuracies will be our baseline, using ML pipeline optimization and Exploratory data analysis we have to better this score"
   ]
  },
  {
   "source": [
    "## Handling Missing Values\n",
    "TBD Instead of using naive cleaner fill missing values with sensible data\n"
   ],
   "cell_type": "markdown",
   "metadata": {}
  },
  {
   "source": [
    "## Further EDA"
   ],
   "cell_type": "markdown",
   "metadata": {}
  },
  {
   "cell_type": "code",
   "execution_count": null,
   "metadata": {},
   "outputs": [],
   "source": []
  }
 ],
 "metadata": {
  "kernelspec": {
   "display_name": "Python 3",
   "language": "python",
   "name": "python3"
  },
  "language_info": {
   "codemirror_mode": {
    "name": "ipython",
    "version": 3
   },
   "file_extension": ".py",
   "mimetype": "text/x-python",
   "name": "python",
   "nbconvert_exporter": "python",
   "pygments_lexer": "ipython3",
   "version": "3.8.2-final"
  }
 },
 "nbformat": 4,
 "nbformat_minor": 2
}