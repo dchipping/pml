{
 "cells": [
  {
   "cell_type": "code",
   "execution_count": null,
   "metadata": {},
   "outputs": [],
   "source": [
    "!pip install autokeras"
   ]
  },
  {
   "source": [
    "## Auto ML (Automating finding the best model)\n",
    "### In the classification problem of predicting the credit risk use AutoKeras to arrive at best Neural Network architecture.\n"
   ],
   "cell_type": "markdown",
   "metadata": {}
  },
  {
   "cell_type": "code",
   "execution_count": null,
   "metadata": {},
   "outputs": [],
   "source": [
    "from sklearn.datasets import fetch_openml\n",
    "import autokeras as ak\n",
    "\n",
    "df = fetch_openml(\"credit-g\")\n",
    "X = df[\"data\"]\n",
    "Y_raw = df[\"target\"]\n",
    "\n",
    "classifier = ak.StructuredDataClassifier(overwrite=True, max_trials=5)"
   ]
  },
  {
   "cell_type": "code",
   "execution_count": null,
   "metadata": {},
   "outputs": [],
   "source": [
    "dir(df)"
   ]
  },
  {
   "cell_type": "code",
   "execution_count": null,
   "metadata": {},
   "outputs": [],
   "source": [
    "print(df['DESCR'])"
   ]
  },
  {
   "cell_type": "code",
   "execution_count": null,
   "metadata": {},
   "outputs": [],
   "source": [
    "#TBD Split into train and test set\n",
    "from sklearn.model_selection import train_test_split\n",
    "from sklearn.preprocessing import LabelEncoder, MinMaxScaler\n",
    "\n",
    "scaler = MinMaxScaler()\n",
    "X = scaler.fit_transform(X)\n",
    "label_encoder = LabelEncoder()\n",
    "Y = label_encoder.fit_transform(Y_raw)\n",
    "\n",
    "X_train, X_test, Y_train, Y_test = train_test_split(X, Y, test_size=0.33, random_state=42)"
   ]
  },
  {
   "cell_type": "code",
   "execution_count": null,
   "metadata": {
    "tags": [
     "outputPrepend"
    ]
   },
   "outputs": [],
   "source": [
    "#TBD Fit on train set\n",
    "#TBD Evaluate on test set \n",
    "\n",
    "classifier.fit(X_train, Y_train)\n",
    "classifier.evaluate(X_test, Y_test)"
   ]
  },
  {
   "source": [
    "## TBD: Show the best architecture found by autokeras"
   ],
   "cell_type": "markdown",
   "metadata": {}
  },
  {
   "cell_type": "code",
   "execution_count": null,
   "metadata": {},
   "outputs": [],
   "source": [
    "model = classifier.export_model()\n",
    "model.summary()"
   ]
  },
  {
   "source": [
    "## TBD: Could you beat the evaluation score of above architecture by any other manually selected model (including non neural net classifiers)"
   ],
   "cell_type": "markdown",
   "metadata": {}
  },
  {
   "cell_type": "code",
   "execution_count": null,
   "metadata": {},
   "outputs": [],
   "source": [
    "from sklearn.model_selection import GridSearchCV\n",
    "from sklearn.linear_model import LogisticRegression\n",
    "from sklearn.neighbors import KNeighborsClassifier\n",
    "from sklearn.ensemble import GradientBoostingClassifier\n",
    "\n",
    "def model_param_optimiser(models):\n",
    "    searches = []\n",
    "    top = 0\n",
    "    for model in models:\n",
    "        gs = GridSearchCV(model[0], model[1], scoring='neg_mean_squared_error')\n",
    "        gs.fit(X_train, Y_train)\n",
    "        searches.append(gs)\n",
    "    for i in range(len(searches)):\n",
    "        if (abs(searches[i].best_score_) < abs(searches[top].best_score_)):\n",
    "            top = i\n",
    "    print(\"Top Score:\" + str(searches[top].best_score_))\n",
    "    print(\"Model:\" + str(models[top][0]))\n",
    "    print(\"Params:\" + str(searches[top].best_params_))\n",
    "\n",
    "no_param = {}\n",
    "parameters_knn = {'n_neighbors':[4,5,6], 'p':[1,2]}\n",
    "parameters_xgboost = {'n_estimators': [50,100,200], 'max_depth': [2,3,4,5,6,7], 'subsample': [0.9, 1.0, 1.1] }\n",
    "models = [(LinearRegression(), no_param), (KNeighborsRegressor(), parameters_knn), (GradientBoostingRegressor(), parameters_xgboost)]\n",
    "\n",
    "model_param_optimiser(models)"
   ]
  },
  {
   "cell_type": "code",
   "execution_count": null,
   "metadata": {},
   "outputs": [],
   "source": [
    "model = GradientBoostingClassifier(n_estimators=50, max_depth=3, subsample=1)\n",
    "model.fit(X_train, Y_train)\n",
    "model.score(X_test, Y_test)\n",
    "\n",
    "# Therefor 0.76666 ~ 0.767 is better than autokeras' 0.736"
   ]
  },
  {
   "source": [
    "## Auto Data Understanding\n",
    "### [Tensorflow Data Validation](https://www.tensorflow.org/tfx/guide/tfdv)\n",
    "\n",
    "## Auto Data Exploration\n",
    "### [pandas-profiling](https://github.com/pandas-profiling/pandas-profiling)"
   ],
   "cell_type": "markdown",
   "metadata": {}
  },
  {
   "cell_type": "code",
   "execution_count": null,
   "metadata": {},
   "outputs": [],
   "source": []
  }
 ],
 "metadata": {
  "kernelspec": {
   "display_name": "Python 3",
   "language": "python",
   "name": "python3"
  },
  "language_info": {
   "codemirror_mode": {
    "name": "ipython",
    "version": 3
   },
   "file_extension": ".py",
   "mimetype": "text/x-python",
   "name": "python",
   "nbconvert_exporter": "python",
   "pygments_lexer": "ipython3",
   "version": "3.8.3-final"
  }
 },
 "nbformat": 4,
 "nbformat_minor": 2
}