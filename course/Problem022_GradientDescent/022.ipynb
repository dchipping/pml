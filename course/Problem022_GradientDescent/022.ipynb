{
 "cells": [
  {
   "cell_type": "markdown",
   "metadata": {},
   "source": [
    "## Gradient Descent\n",
    "\n",
    "\n",
    "### TBD: Tale of 2 functions: First is f, the function we are trying to predict. second is J, the cost function. Whats your general observation about f and J\n",
    "\n"
   ]
  },
  {
   "cell_type": "code",
   "execution_count": null,
   "metadata": {},
   "outputs": [],
   "source": [
    "As J decreases f becomes more accurate"
   ]
  },
  {
   "cell_type": "markdown",
   "metadata": {},
   "source": [
    "### TBD Simply stated gradient descent means that move in the direction of negative slope in some proportion to the incline of the slope.\n",
    "\n",
    "    - Which of above 2 functions (f or J) we would do gradient descent?\n",
    "    ANS: J would\n",
    "    - What is a learning rate? \n",
    "    ANS: Size of the steps taken during stochastic gradient descent"
   ]
  },
  {
   "cell_type": "markdown",
   "metadata": {},
   "source": [
    "### TBD: Given the following cost function J\n",
    "\n",
    "$\\begin{align}J(w) = (w-3)^2\\end{align}$\n",
    "\n",
    "and our current weight is 7, given the learning rate of 0.1\n",
    "\n",
    " - What will be the length of our next stride (by what magnitude will be adjust the weight)?\n",
    "\n",
    " - What will be the new weight?"
   ]
  },
  {
   "cell_type": "code",
   "execution_count": null,
   "metadata": {},
   "outputs": [],
   "source": [
    "w* = w + dJ/dw * LR\n",
    "dJ/dw = 2(w-3)\n",
    "w* = 7 + 8*0.1\n",
    "w* = 7.8"
   ]
  }
 ],
 "metadata": {
  "kernelspec": {
   "display_name": "Python 3",
   "language": "python",
   "name": "python3"
  },
  "language_info": {
   "codemirror_mode": {
    "name": "ipython",
    "version": 3
   },
   "file_extension": ".py",
   "mimetype": "text/x-python",
   "name": "python",
   "nbconvert_exporter": "python",
   "pygments_lexer": "ipython3",
   "version": "3.7.6"
  }
 },
 "nbformat": 4,
 "nbformat_minor": 2
}
