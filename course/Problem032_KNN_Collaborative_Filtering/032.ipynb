{
  "nbformat": 4,
  "nbformat_minor": 0,
  "metadata": {
    "kernelspec": {
      "display_name": "Python 3",
      "language": "python",
      "name": "python3"
    },
    "language_info": {
      "codemirror_mode": {
        "name": "ipython",
        "version": 3
      },
      "file_extension": ".py",
      "mimetype": "text/x-python",
      "name": "python",
      "nbconvert_exporter": "python",
      "pygments_lexer": "ipython3",
      "version": "3.7.6-final"
    },
    "colab": {
      "name": "032.ipynb",
      "provenance": []
    }
  },
  "cells": [
    {
      "cell_type": "markdown",
      "metadata": {
        "id": "8JptQO420ugZ"
      },
      "source": [
        "# Recommender Systems\n",
        "recommmendation system: presents items to users in a relevant way\n",
        "\n",
        "user: party that is receiving Recommendations\n",
        "item: the passive party that is being recommended to users  \n",
        "\n",
        "Content based vs collaborative filtering\n",
        "In practice most will be hybrid.\n",
        "\n",
        "## Recommendations at Expedia Group\n",
        "https://confluence.expedia.biz/pages/viewpage.action?pageId=890552932\n",
        "\n",
        "https://www.dropbox.com/s/cf77o15jlahabay/wid-eps-recommendations.pdf\n",
        "\n",
        "## Collaborative Filtering\n",
        "\n",
        "* Memory Based - KNearest Neighbours\n",
        "* Model Based - SVD\n",
        "* and others"
      ]
    },
    {
      "cell_type": "markdown",
      "metadata": {
        "id": "erBRh2L22J7E"
      },
      "source": [
        "# K Nearest Neighbours"
      ]
    },
    {
      "cell_type": "code",
      "metadata": {
        "id": "H6Drt1tW0ugf"
      },
      "source": [
        "import pandas as pd\n",
        "\n",
        "def display_matrix(data):\n",
        "  df = pd.DataFrame(data) \n",
        "  df.rename(columns=lambda x: \"item\" + str(x), inplace=True)\n",
        "  df.rename(index = lambda x: \"user\" + str(x), inplace=True)\n",
        "  return df\n"
      ],
      "execution_count": 1,
      "outputs": []
    },
    {
      "cell_type": "code",
      "metadata": {
        "colab": {
          "base_uri": "https://localhost:8080/",
          "height": 269
        },
        "id": "vnbFZ4w52WIa",
        "outputId": "cb34a176-9123-4036-d6f0-bdcae8dc9247"
      },
      "source": [
        "from scipy import spatial\n",
        "import matplotlib.pyplot as plt\n",
        "import itertools\n",
        "from sklearn.neighbors import NearestNeighbors\n",
        "import math\n",
        "\n",
        "\n",
        "def points(xs):\n",
        "    return [[x[0] for x in xs],[x[1] for x in xs]]\n",
        "\n",
        "def plot(xs):\n",
        "    ps = points(xs)\n",
        "    plt.plot(ps[0],ps[1], 'ro')\n",
        "    mx = max([max(ps[0]), max(ps[1])])\n",
        "    mn = min([min(ps[0]), min(ps[1]), 0])\n",
        "    gap = math.ceil((mx - mn) / 10)\n",
        "    plt.axis([mn, mx + gap, mn, mx + gap])\n",
        "\n",
        "\n",
        "# https://realpython.com/build-recommendation-engine-collaborative-filtering/\n",
        "# conceptually we can say that these are users with explicit ratings for movies x and y\n",
        "# or we could say that they're\n",
        "pts = [\n",
        "    [4, 1],\n",
        "    [3.5, 0.5],\n",
        "    [0.5, 4],\n",
        "    [1.5, 5]\n",
        "]\n",
        "\n",
        "plot(pts)"
      ],
      "execution_count": 2,
      "outputs": [
        {
          "output_type": "display_data",
          "data": {
            "text/plain": "<Figure size 432x288 with 1 Axes>",
            "image/svg+xml": "<?xml version=\"1.0\" encoding=\"utf-8\" standalone=\"no\"?>\n<!DOCTYPE svg PUBLIC \"-//W3C//DTD SVG 1.1//EN\"\n  \"http://www.w3.org/Graphics/SVG/1.1/DTD/svg11.dtd\">\n<!-- Created with matplotlib (https://matplotlib.org/) -->\n<svg height=\"252.317344pt\" version=\"1.1\" viewBox=\"0 0 365.74375 252.317344\" width=\"365.74375pt\" xmlns=\"http://www.w3.org/2000/svg\" xmlns:xlink=\"http://www.w3.org/1999/xlink\">\n <defs>\n  <style type=\"text/css\">\n*{stroke-linecap:butt;stroke-linejoin:round;}\n  </style>\n </defs>\n <g id=\"figure_1\">\n  <g id=\"patch_1\">\n   <path d=\"M 0 252.317344 \nL 365.74375 252.317344 \nL 365.74375 0 \nL 0 0 \nz\n\" style=\"fill:none;\"/>\n  </g>\n  <g id=\"axes_1\">\n   <g id=\"patch_2\">\n    <path d=\"M 20.5625 228.439219 \nL 355.3625 228.439219 \nL 355.3625 10.999219 \nL 20.5625 10.999219 \nz\n\" style=\"fill:#ffffff;\"/>\n   </g>\n   <g id=\"matplotlib.axis_1\">\n    <g id=\"xtick_1\">\n     <g id=\"line2d_1\">\n      <defs>\n       <path d=\"M 0 0 \nL 0 3.5 \n\" id=\"m305e10b03d\" style=\"stroke:#000000;stroke-width:0.8;\"/>\n      </defs>\n      <g>\n       <use style=\"stroke:#000000;stroke-width:0.8;\" x=\"20.5625\" xlink:href=\"#m305e10b03d\" y=\"228.439219\"/>\n      </g>\n     </g>\n     <g id=\"text_1\">\n      <!-- 0 -->\n      <defs>\n       <path d=\"M 31.78125 66.40625 \nQ 24.171875 66.40625 20.328125 58.90625 \nQ 16.5 51.421875 16.5 36.375 \nQ 16.5 21.390625 20.328125 13.890625 \nQ 24.171875 6.390625 31.78125 6.390625 \nQ 39.453125 6.390625 43.28125 13.890625 \nQ 47.125 21.390625 47.125 36.375 \nQ 47.125 51.421875 43.28125 58.90625 \nQ 39.453125 66.40625 31.78125 66.40625 \nz\nM 31.78125 74.21875 \nQ 44.046875 74.21875 50.515625 64.515625 \nQ 56.984375 54.828125 56.984375 36.375 \nQ 56.984375 17.96875 50.515625 8.265625 \nQ 44.046875 -1.421875 31.78125 -1.421875 \nQ 19.53125 -1.421875 13.0625 8.265625 \nQ 6.59375 17.96875 6.59375 36.375 \nQ 6.59375 54.828125 13.0625 64.515625 \nQ 19.53125 74.21875 31.78125 74.21875 \nz\n\" id=\"DejaVuSans-48\"/>\n      </defs>\n      <g transform=\"translate(17.38125 243.037656)scale(0.1 -0.1)\">\n       <use xlink:href=\"#DejaVuSans-48\"/>\n      </g>\n     </g>\n    </g>\n    <g id=\"xtick_2\">\n     <g id=\"line2d_2\">\n      <g>\n       <use style=\"stroke:#000000;stroke-width:0.8;\" x=\"76.3625\" xlink:href=\"#m305e10b03d\" y=\"228.439219\"/>\n      </g>\n     </g>\n     <g id=\"text_2\">\n      <!-- 1 -->\n      <defs>\n       <path d=\"M 12.40625 8.296875 \nL 28.515625 8.296875 \nL 28.515625 63.921875 \nL 10.984375 60.40625 \nL 10.984375 69.390625 \nL 28.421875 72.90625 \nL 38.28125 72.90625 \nL 38.28125 8.296875 \nL 54.390625 8.296875 \nL 54.390625 0 \nL 12.40625 0 \nz\n\" id=\"DejaVuSans-49\"/>\n      </defs>\n      <g transform=\"translate(73.18125 243.037656)scale(0.1 -0.1)\">\n       <use xlink:href=\"#DejaVuSans-49\"/>\n      </g>\n     </g>\n    </g>\n    <g id=\"xtick_3\">\n     <g id=\"line2d_3\">\n      <g>\n       <use style=\"stroke:#000000;stroke-width:0.8;\" x=\"132.1625\" xlink:href=\"#m305e10b03d\" y=\"228.439219\"/>\n      </g>\n     </g>\n     <g id=\"text_3\">\n      <!-- 2 -->\n      <defs>\n       <path d=\"M 19.1875 8.296875 \nL 53.609375 8.296875 \nL 53.609375 0 \nL 7.328125 0 \nL 7.328125 8.296875 \nQ 12.9375 14.109375 22.625 23.890625 \nQ 32.328125 33.6875 34.8125 36.53125 \nQ 39.546875 41.84375 41.421875 45.53125 \nQ 43.3125 49.21875 43.3125 52.78125 \nQ 43.3125 58.59375 39.234375 62.25 \nQ 35.15625 65.921875 28.609375 65.921875 \nQ 23.96875 65.921875 18.8125 64.3125 \nQ 13.671875 62.703125 7.8125 59.421875 \nL 7.8125 69.390625 \nQ 13.765625 71.78125 18.9375 73 \nQ 24.125 74.21875 28.421875 74.21875 \nQ 39.75 74.21875 46.484375 68.546875 \nQ 53.21875 62.890625 53.21875 53.421875 \nQ 53.21875 48.921875 51.53125 44.890625 \nQ 49.859375 40.875 45.40625 35.40625 \nQ 44.1875 33.984375 37.640625 27.21875 \nQ 31.109375 20.453125 19.1875 8.296875 \nz\n\" id=\"DejaVuSans-50\"/>\n      </defs>\n      <g transform=\"translate(128.98125 243.037656)scale(0.1 -0.1)\">\n       <use xlink:href=\"#DejaVuSans-50\"/>\n      </g>\n     </g>\n    </g>\n    <g id=\"xtick_4\">\n     <g id=\"line2d_4\">\n      <g>\n       <use style=\"stroke:#000000;stroke-width:0.8;\" x=\"187.9625\" xlink:href=\"#m305e10b03d\" y=\"228.439219\"/>\n      </g>\n     </g>\n     <g id=\"text_4\">\n      <!-- 3 -->\n      <defs>\n       <path d=\"M 40.578125 39.3125 \nQ 47.65625 37.796875 51.625 33 \nQ 55.609375 28.21875 55.609375 21.1875 \nQ 55.609375 10.40625 48.1875 4.484375 \nQ 40.765625 -1.421875 27.09375 -1.421875 \nQ 22.515625 -1.421875 17.65625 -0.515625 \nQ 12.796875 0.390625 7.625 2.203125 \nL 7.625 11.71875 \nQ 11.71875 9.328125 16.59375 8.109375 \nQ 21.484375 6.890625 26.8125 6.890625 \nQ 36.078125 6.890625 40.9375 10.546875 \nQ 45.796875 14.203125 45.796875 21.1875 \nQ 45.796875 27.640625 41.28125 31.265625 \nQ 36.765625 34.90625 28.71875 34.90625 \nL 20.21875 34.90625 \nL 20.21875 43.015625 \nL 29.109375 43.015625 \nQ 36.375 43.015625 40.234375 45.921875 \nQ 44.09375 48.828125 44.09375 54.296875 \nQ 44.09375 59.90625 40.109375 62.90625 \nQ 36.140625 65.921875 28.71875 65.921875 \nQ 24.65625 65.921875 20.015625 65.03125 \nQ 15.375 64.15625 9.8125 62.3125 \nL 9.8125 71.09375 \nQ 15.4375 72.65625 20.34375 73.4375 \nQ 25.25 74.21875 29.59375 74.21875 \nQ 40.828125 74.21875 47.359375 69.109375 \nQ 53.90625 64.015625 53.90625 55.328125 \nQ 53.90625 49.265625 50.4375 45.09375 \nQ 46.96875 40.921875 40.578125 39.3125 \nz\n\" id=\"DejaVuSans-51\"/>\n      </defs>\n      <g transform=\"translate(184.78125 243.037656)scale(0.1 -0.1)\">\n       <use xlink:href=\"#DejaVuSans-51\"/>\n      </g>\n     </g>\n    </g>\n    <g id=\"xtick_5\">\n     <g id=\"line2d_5\">\n      <g>\n       <use style=\"stroke:#000000;stroke-width:0.8;\" x=\"243.7625\" xlink:href=\"#m305e10b03d\" y=\"228.439219\"/>\n      </g>\n     </g>\n     <g id=\"text_5\">\n      <!-- 4 -->\n      <defs>\n       <path d=\"M 37.796875 64.3125 \nL 12.890625 25.390625 \nL 37.796875 25.390625 \nz\nM 35.203125 72.90625 \nL 47.609375 72.90625 \nL 47.609375 25.390625 \nL 58.015625 25.390625 \nL 58.015625 17.1875 \nL 47.609375 17.1875 \nL 47.609375 0 \nL 37.796875 0 \nL 37.796875 17.1875 \nL 4.890625 17.1875 \nL 4.890625 26.703125 \nz\n\" id=\"DejaVuSans-52\"/>\n      </defs>\n      <g transform=\"translate(240.58125 243.037656)scale(0.1 -0.1)\">\n       <use xlink:href=\"#DejaVuSans-52\"/>\n      </g>\n     </g>\n    </g>\n    <g id=\"xtick_6\">\n     <g id=\"line2d_6\">\n      <g>\n       <use style=\"stroke:#000000;stroke-width:0.8;\" x=\"299.5625\" xlink:href=\"#m305e10b03d\" y=\"228.439219\"/>\n      </g>\n     </g>\n     <g id=\"text_6\">\n      <!-- 5 -->\n      <defs>\n       <path d=\"M 10.796875 72.90625 \nL 49.515625 72.90625 \nL 49.515625 64.59375 \nL 19.828125 64.59375 \nL 19.828125 46.734375 \nQ 21.96875 47.46875 24.109375 47.828125 \nQ 26.265625 48.1875 28.421875 48.1875 \nQ 40.625 48.1875 47.75 41.5 \nQ 54.890625 34.8125 54.890625 23.390625 \nQ 54.890625 11.625 47.5625 5.09375 \nQ 40.234375 -1.421875 26.90625 -1.421875 \nQ 22.3125 -1.421875 17.546875 -0.640625 \nQ 12.796875 0.140625 7.71875 1.703125 \nL 7.71875 11.625 \nQ 12.109375 9.234375 16.796875 8.0625 \nQ 21.484375 6.890625 26.703125 6.890625 \nQ 35.15625 6.890625 40.078125 11.328125 \nQ 45.015625 15.765625 45.015625 23.390625 \nQ 45.015625 31 40.078125 35.4375 \nQ 35.15625 39.890625 26.703125 39.890625 \nQ 22.75 39.890625 18.8125 39.015625 \nQ 14.890625 38.140625 10.796875 36.28125 \nz\n\" id=\"DejaVuSans-53\"/>\n      </defs>\n      <g transform=\"translate(296.38125 243.037656)scale(0.1 -0.1)\">\n       <use xlink:href=\"#DejaVuSans-53\"/>\n      </g>\n     </g>\n    </g>\n    <g id=\"xtick_7\">\n     <g id=\"line2d_7\">\n      <g>\n       <use style=\"stroke:#000000;stroke-width:0.8;\" x=\"355.3625\" xlink:href=\"#m305e10b03d\" y=\"228.439219\"/>\n      </g>\n     </g>\n     <g id=\"text_7\">\n      <!-- 6 -->\n      <defs>\n       <path d=\"M 33.015625 40.375 \nQ 26.375 40.375 22.484375 35.828125 \nQ 18.609375 31.296875 18.609375 23.390625 \nQ 18.609375 15.53125 22.484375 10.953125 \nQ 26.375 6.390625 33.015625 6.390625 \nQ 39.65625 6.390625 43.53125 10.953125 \nQ 47.40625 15.53125 47.40625 23.390625 \nQ 47.40625 31.296875 43.53125 35.828125 \nQ 39.65625 40.375 33.015625 40.375 \nz\nM 52.59375 71.296875 \nL 52.59375 62.3125 \nQ 48.875 64.0625 45.09375 64.984375 \nQ 41.3125 65.921875 37.59375 65.921875 \nQ 27.828125 65.921875 22.671875 59.328125 \nQ 17.53125 52.734375 16.796875 39.40625 \nQ 19.671875 43.65625 24.015625 45.921875 \nQ 28.375 48.1875 33.59375 48.1875 \nQ 44.578125 48.1875 50.953125 41.515625 \nQ 57.328125 34.859375 57.328125 23.390625 \nQ 57.328125 12.15625 50.6875 5.359375 \nQ 44.046875 -1.421875 33.015625 -1.421875 \nQ 20.359375 -1.421875 13.671875 8.265625 \nQ 6.984375 17.96875 6.984375 36.375 \nQ 6.984375 53.65625 15.1875 63.9375 \nQ 23.390625 74.21875 37.203125 74.21875 \nQ 40.921875 74.21875 44.703125 73.484375 \nQ 48.484375 72.75 52.59375 71.296875 \nz\n\" id=\"DejaVuSans-54\"/>\n      </defs>\n      <g transform=\"translate(352.18125 243.037656)scale(0.1 -0.1)\">\n       <use xlink:href=\"#DejaVuSans-54\"/>\n      </g>\n     </g>\n    </g>\n   </g>\n   <g id=\"matplotlib.axis_2\">\n    <g id=\"ytick_1\">\n     <g id=\"line2d_8\">\n      <defs>\n       <path d=\"M 0 0 \nL -3.5 0 \n\" id=\"m919fc5fc54\" style=\"stroke:#000000;stroke-width:0.8;\"/>\n      </defs>\n      <g>\n       <use style=\"stroke:#000000;stroke-width:0.8;\" x=\"20.5625\" xlink:href=\"#m919fc5fc54\" y=\"228.439219\"/>\n      </g>\n     </g>\n     <g id=\"text_8\">\n      <!-- 0 -->\n      <g transform=\"translate(7.2 232.238437)scale(0.1 -0.1)\">\n       <use xlink:href=\"#DejaVuSans-48\"/>\n      </g>\n     </g>\n    </g>\n    <g id=\"ytick_2\">\n     <g id=\"line2d_9\">\n      <g>\n       <use style=\"stroke:#000000;stroke-width:0.8;\" x=\"20.5625\" xlink:href=\"#m919fc5fc54\" y=\"192.199219\"/>\n      </g>\n     </g>\n     <g id=\"text_9\">\n      <!-- 1 -->\n      <g transform=\"translate(7.2 195.998437)scale(0.1 -0.1)\">\n       <use xlink:href=\"#DejaVuSans-49\"/>\n      </g>\n     </g>\n    </g>\n    <g id=\"ytick_3\">\n     <g id=\"line2d_10\">\n      <g>\n       <use style=\"stroke:#000000;stroke-width:0.8;\" x=\"20.5625\" xlink:href=\"#m919fc5fc54\" y=\"155.959219\"/>\n      </g>\n     </g>\n     <g id=\"text_10\">\n      <!-- 2 -->\n      <g transform=\"translate(7.2 159.758437)scale(0.1 -0.1)\">\n       <use xlink:href=\"#DejaVuSans-50\"/>\n      </g>\n     </g>\n    </g>\n    <g id=\"ytick_4\">\n     <g id=\"line2d_11\">\n      <g>\n       <use style=\"stroke:#000000;stroke-width:0.8;\" x=\"20.5625\" xlink:href=\"#m919fc5fc54\" y=\"119.719219\"/>\n      </g>\n     </g>\n     <g id=\"text_11\">\n      <!-- 3 -->\n      <g transform=\"translate(7.2 123.518437)scale(0.1 -0.1)\">\n       <use xlink:href=\"#DejaVuSans-51\"/>\n      </g>\n     </g>\n    </g>\n    <g id=\"ytick_5\">\n     <g id=\"line2d_12\">\n      <g>\n       <use style=\"stroke:#000000;stroke-width:0.8;\" x=\"20.5625\" xlink:href=\"#m919fc5fc54\" y=\"83.479219\"/>\n      </g>\n     </g>\n     <g id=\"text_12\">\n      <!-- 4 -->\n      <g transform=\"translate(7.2 87.278437)scale(0.1 -0.1)\">\n       <use xlink:href=\"#DejaVuSans-52\"/>\n      </g>\n     </g>\n    </g>\n    <g id=\"ytick_6\">\n     <g id=\"line2d_13\">\n      <g>\n       <use style=\"stroke:#000000;stroke-width:0.8;\" x=\"20.5625\" xlink:href=\"#m919fc5fc54\" y=\"47.239219\"/>\n      </g>\n     </g>\n     <g id=\"text_13\">\n      <!-- 5 -->\n      <g transform=\"translate(7.2 51.038437)scale(0.1 -0.1)\">\n       <use xlink:href=\"#DejaVuSans-53\"/>\n      </g>\n     </g>\n    </g>\n    <g id=\"ytick_7\">\n     <g id=\"line2d_14\">\n      <g>\n       <use style=\"stroke:#000000;stroke-width:0.8;\" x=\"20.5625\" xlink:href=\"#m919fc5fc54\" y=\"10.999219\"/>\n      </g>\n     </g>\n     <g id=\"text_14\">\n      <!-- 6 -->\n      <g transform=\"translate(7.2 14.798437)scale(0.1 -0.1)\">\n       <use xlink:href=\"#DejaVuSans-54\"/>\n      </g>\n     </g>\n    </g>\n   </g>\n   <g id=\"line2d_15\">\n    <defs>\n     <path d=\"M 0 3 \nC 0.795609 3 1.55874 2.683901 2.12132 2.12132 \nC 2.683901 1.55874 3 0.795609 3 0 \nC 3 -0.795609 2.683901 -1.55874 2.12132 -2.12132 \nC 1.55874 -2.683901 0.795609 -3 0 -3 \nC -0.795609 -3 -1.55874 -2.683901 -2.12132 -2.12132 \nC -2.683901 -1.55874 -3 -0.795609 -3 0 \nC -3 0.795609 -2.683901 1.55874 -2.12132 2.12132 \nC -1.55874 2.683901 -0.795609 3 0 3 \nz\n\" id=\"mc3fa47e847\" style=\"stroke:#ff0000;\"/>\n    </defs>\n    <g clip-path=\"url(#p3a8f902f7a)\">\n     <use style=\"fill:#ff0000;stroke:#ff0000;\" x=\"243.7625\" xlink:href=\"#mc3fa47e847\" y=\"192.199219\"/>\n     <use style=\"fill:#ff0000;stroke:#ff0000;\" x=\"215.8625\" xlink:href=\"#mc3fa47e847\" y=\"210.319219\"/>\n     <use style=\"fill:#ff0000;stroke:#ff0000;\" x=\"48.4625\" xlink:href=\"#mc3fa47e847\" y=\"83.479219\"/>\n     <use style=\"fill:#ff0000;stroke:#ff0000;\" x=\"104.2625\" xlink:href=\"#mc3fa47e847\" y=\"47.239219\"/>\n    </g>\n   </g>\n   <g id=\"patch_3\">\n    <path d=\"M 20.5625 228.439219 \nL 20.5625 10.999219 \n\" style=\"fill:none;stroke:#000000;stroke-linecap:square;stroke-linejoin:miter;stroke-width:0.8;\"/>\n   </g>\n   <g id=\"patch_4\">\n    <path d=\"M 355.3625 228.439219 \nL 355.3625 10.999219 \n\" style=\"fill:none;stroke:#000000;stroke-linecap:square;stroke-linejoin:miter;stroke-width:0.8;\"/>\n   </g>\n   <g id=\"patch_5\">\n    <path d=\"M 20.5625 228.439219 \nL 355.3625 228.439219 \n\" style=\"fill:none;stroke:#000000;stroke-linecap:square;stroke-linejoin:miter;stroke-width:0.8;\"/>\n   </g>\n   <g id=\"patch_6\">\n    <path d=\"M 20.5625 10.999219 \nL 355.3625 10.999219 \n\" style=\"fill:none;stroke:#000000;stroke-linecap:square;stroke-linejoin:miter;stroke-width:0.8;\"/>\n   </g>\n  </g>\n </g>\n <defs>\n  <clipPath id=\"p3a8f902f7a\">\n   <rect height=\"217.44\" width=\"334.8\" x=\"20.5625\" y=\"10.999219\"/>\n  </clipPath>\n </defs>\n</svg>\n",
            "image/png": "[encoded data removed]"
          },
          "metadata": {
            "needs_background": "light"
          }
        }
      ]
    },
    {
      "cell_type": "code",
      "metadata": {
        "colab": {
          "base_uri": "https://localhost:8080/",
          "height": 175
        },
        "id": "5CHKtKgz7VI8",
        "outputId": "20091c22-531d-430c-e7a2-660a74df2666"
      },
      "source": [
        "display_matrix(pts)"
      ],
      "execution_count": 3,
      "outputs": [
        {
          "output_type": "execute_result",
          "data": {
            "text/plain": [
              "       item0  item1\n",
              "user0    4.0    1.0\n",
              "user1    3.5    0.5\n",
              "user2    0.5    4.0\n",
              "user3    1.5    5.0"
            ],
            "text/html": "<div>\n<style scoped>\n    .dataframe tbody tr th:only-of-type {\n        vertical-align: middle;\n    }\n\n    .dataframe tbody tr th {\n        vertical-align: top;\n    }\n\n    .dataframe thead th {\n        text-align: right;\n    }\n</style>\n<table border=\"1\" class=\"dataframe\">\n  <thead>\n    <tr style=\"text-align: right;\">\n      <th></th>\n      <th>item0</th>\n      <th>item1</th>\n    </tr>\n  </thead>\n  <tbody>\n    <tr>\n      <th>user0</th>\n      <td>4.0</td>\n      <td>1.0</td>\n    </tr>\n    <tr>\n      <th>user1</th>\n      <td>3.5</td>\n      <td>0.5</td>\n    </tr>\n    <tr>\n      <th>user2</th>\n      <td>0.5</td>\n      <td>4.0</td>\n    </tr>\n    <tr>\n      <th>user3</th>\n      <td>1.5</td>\n      <td>5.0</td>\n    </tr>\n  </tbody>\n</table>\n</div>"
          },
          "metadata": {},
          "execution_count": 3
        }
      ]
    },
    {
      "cell_type": "code",
      "metadata": {
        "id": "HDpISfFN7vzc"
      },
      "source": [
        "# User-based collaborative filtering:\n",
        "# Find the users who have similar taste of products as the current user, similarity is based on purchasing behavior of the user, so based on the neighbor purchasing behavior we can recommend items to the current user.\n",
        "import numpy as np\n",
        "\n",
        "# TBD\n",
        "# Let's build up intuitions\n",
        "# Lets add a new user who gave movie x a certain rating but hasn't given one for movie y; what rating will she give to movie y?\n",
        "\n",
        "pts = [\n",
        "    [4, 1],\n",
        "    [3.5, 0.5],\n",
        "    [0.5, 4],\n",
        "    [1.5, 5]\n",
        "]\n",
        "\n",
        "# Let's say that her rating will be the average of the ratings given by the nearest 2 users for movie y\n",
        "\n",
        "def predicted_rating(x, points, num_neighbors=2):\n",
        "    points = np.array(points)\n",
        "    for i in range(len(points)):\n",
        "        points[i][0] = abs(points[i][0] - x)\n",
        "\n",
        "    sorted_pts = points[np.argsort(points[:,0])]\n",
        "    y_neighbors = sorted_pts[:num_neighbors]\n",
        "\n",
        "    return y_neighbors[0][1] if len(y_neighbors) == 1 else np.sum(y_neighbors[:,1])/num_neighbors\n",
        "\n",
        "print(predicted_rating(5, pts, 1))\n",
        "print(predicted_rating(3.5, pts, 2))\n",
        "\n",
        "# Problems with this?\n",
        "# If inbetween 3.5 and 1.5 will take y to be average of those scores which will be wildly off\n",
        "# If not between existing score i.e. 5 it will not scale with higher score"
      ],
      "execution_count": 4,
      "outputs": [
        {
          "output_type": "stream",
          "name": "stdout",
          "text": [
            "1.0\n0.75\n"
          ]
        }
      ]
    },
    {
      "cell_type": "code",
      "metadata": {
        "colab": {
          "base_uri": "https://localhost:8080/"
        },
        "id": "5skLWSs3DcE8",
        "outputId": "94f925c4-1a37-4c79-dd6d-a4dda3d8c89e"
      },
      "source": [
        "# Now let's see if we can try using sklearn's nearest neighbour's library\n",
        "\n",
        "neigh = NearestNeighbors(n_neighbors=1, metric='euclidean')\n",
        "neigh.fit(pts)\n",
        "\n",
        "print(neigh.kneighbors([[4,1]]))\n",
        "print(neigh.kneighbors([[4,1.1]]))\n",
        "print(neigh.kneighbors([[5,2]]))\n",
        "print(neigh.kneighbors([[1,5]]))\n",
        "\n",
        "# What's wrong with the result here?\n",
        "# Distances are very small, not a great sensitivity to close neighbors"
      ],
      "execution_count": 5,
      "outputs": [
        {
          "output_type": "stream",
          "name": "stdout",
          "text": [
            "(array([[0.]]), array([[0]]))\n(array([[0.1]]), array([[0]]))\n(array([[1.41421356]]), array([[0]]))\n(array([[0.5]]), array([[3]]))\n"
          ]
        }
      ]
    },
    {
      "cell_type": "code",
      "execution_count": 6,
      "metadata": {},
      "outputs": [
        {
          "output_type": "execute_result",
          "data": {
            "text/plain": [
              "       item0  item1\n",
              "user0   1.50  -1.50\n",
              "user1   1.50  -1.50\n",
              "user2  -1.75   1.75\n",
              "user3  -1.75   1.75"
            ],
            "text/html": "<div>\n<style scoped>\n    .dataframe tbody tr th:only-of-type {\n        vertical-align: middle;\n    }\n\n    .dataframe tbody tr th {\n        vertical-align: top;\n    }\n\n    .dataframe thead th {\n        text-align: right;\n    }\n</style>\n<table border=\"1\" class=\"dataframe\">\n  <thead>\n    <tr style=\"text-align: right;\">\n      <th></th>\n      <th>item0</th>\n      <th>item1</th>\n    </tr>\n  </thead>\n  <tbody>\n    <tr>\n      <th>user0</th>\n      <td>1.50</td>\n      <td>-1.50</td>\n    </tr>\n    <tr>\n      <th>user1</th>\n      <td>1.50</td>\n      <td>-1.50</td>\n    </tr>\n    <tr>\n      <th>user2</th>\n      <td>-1.75</td>\n      <td>1.75</td>\n    </tr>\n    <tr>\n      <th>user3</th>\n      <td>-1.75</td>\n      <td>1.75</td>\n    </tr>\n  </tbody>\n</table>\n</div>"
          },
          "metadata": {},
          "execution_count": 6
        }
      ],
      "source": [
        "def normalise(x):\n",
        "    avg = (x[0] + x[1]) / 2\n",
        "    return [x[0] - avg, x[1] - avg]\n",
        "\n",
        "display_matrix([normalise(pt) for pt in pts])"
      ]
    },
    {
      "cell_type": "code",
      "metadata": {
        "colab": {
          "base_uri": "https://localhost:8080/"
        },
        "id": "zPmAdNSHD53I",
        "outputId": "2bb12be7-443c-4851-cb2a-1494d94a9413"
      },
      "source": [
        "def explain(coord):\n",
        "    neigh = NearestNeighbors(n_neighbors=2)\n",
        "    neigh.fit([normalise(pt) for pt in pts])\n",
        "    distance, index = neigh.kneighbors([coord])\n",
        "    print(f'Nearest 2 neighbors to a User of rating {coord}')\n",
        "    print('====')\n",
        "    print(f'Nearest Neighbors are Users: {index[0][0]} and {index[0][1]}')\n",
        "    print(f'Neighbor 1 (User {index[0][0]}) euclidian distance of: {distance[0][0]}')\n",
        "    print(f'Neighbor 2 (User {index[0][1]}) euclidian distance of: {distance[0][1]}\\n')\n",
        "\n",
        "explain([0.1, 0])\n",
        "explain([3.4, 0.2])\n",
        "explain([1.5, 4])"
      ],
      "execution_count": 7,
      "outputs": [
        {
          "output_type": "stream",
          "name": "stdout",
          "text": [
            "Nearest 2 neighbors to a User of rating [0.1, 0]\n====\nNearest Neighbors are Users: 0 and 1\nNeighbor 1 (User 0) euclidian distance of: 2.0518284528683193\nNeighbor 2 (User 1) euclidian distance of: 2.0518284528683193\n\nNearest 2 neighbors to a User of rating [3.4, 0.2]\n====\nNearest Neighbors are Users: 0 and 1\nNeighbor 1 (User 0) euclidian distance of: 2.5495097567963922\nNeighbor 2 (User 1) euclidian distance of: 2.5495097567963922\n\nNearest 2 neighbors to a User of rating [1.5, 4]\n====\nNearest Neighbors are Users: 2 and 3\nNeighbor 1 (User 2) euclidian distance of: 3.952847075210474\nNeighbor 2 (User 3) euclidian distance of: 3.952847075210474\n\n"
          ]
        }
      ]
    },
    {
      "cell_type": "code",
      "metadata": {
        "colab": {
          "base_uri": "https://localhost:8080/",
          "height": 206
        },
        "id": "A7K-czAtEvp6",
        "outputId": "e11d2d20-7a4f-4e16-86d6-5bf053202712"
      },
      "source": [
        "# Let's add some items and introduce some sparsity\n",
        "pts = [\n",
        "    [4, 1, None, None],\n",
        "    [3.5, 0.5, None, 2],\n",
        "    [None, None, 3, 4],\n",
        "    [0.5, 4, None, None],\n",
        "    [1.5, 5, None, None]\n",
        "]\n",
        "display_matrix(pts)"
      ],
      "execution_count": 8,
      "outputs": [
        {
          "output_type": "execute_result",
          "data": {
            "text/plain": [
              "       item0  item1  item2  item3\n",
              "user0    4.0    1.0    NaN    NaN\n",
              "user1    3.5    0.5    NaN    2.0\n",
              "user2    NaN    NaN    3.0    4.0\n",
              "user3    0.5    4.0    NaN    NaN\n",
              "user4    1.5    5.0    NaN    NaN"
            ],
            "text/html": "<div>\n<style scoped>\n    .dataframe tbody tr th:only-of-type {\n        vertical-align: middle;\n    }\n\n    .dataframe tbody tr th {\n        vertical-align: top;\n    }\n\n    .dataframe thead th {\n        text-align: right;\n    }\n</style>\n<table border=\"1\" class=\"dataframe\">\n  <thead>\n    <tr style=\"text-align: right;\">\n      <th></th>\n      <th>item0</th>\n      <th>item1</th>\n      <th>item2</th>\n      <th>item3</th>\n    </tr>\n  </thead>\n  <tbody>\n    <tr>\n      <th>user0</th>\n      <td>4.0</td>\n      <td>1.0</td>\n      <td>NaN</td>\n      <td>NaN</td>\n    </tr>\n    <tr>\n      <th>user1</th>\n      <td>3.5</td>\n      <td>0.5</td>\n      <td>NaN</td>\n      <td>2.0</td>\n    </tr>\n    <tr>\n      <th>user2</th>\n      <td>NaN</td>\n      <td>NaN</td>\n      <td>3.0</td>\n      <td>4.0</td>\n    </tr>\n    <tr>\n      <th>user3</th>\n      <td>0.5</td>\n      <td>4.0</td>\n      <td>NaN</td>\n      <td>NaN</td>\n    </tr>\n    <tr>\n      <th>user4</th>\n      <td>1.5</td>\n      <td>5.0</td>\n      <td>NaN</td>\n      <td>NaN</td>\n    </tr>\n  </tbody>\n</table>\n</div>"
          },
          "metadata": {},
          "execution_count": 8
        }
      ]
    },
    {
      "cell_type": "code",
      "metadata": {
        "id": "bJ-wPJdfFC7d"
      },
      "source": [
        "def normalise(xs):\n",
        "    nxs = list(filter(lambda x: x is not None, xs))\n",
        "    avg = sum(nxs) / len(nxs)\n",
        "    return [0.0 if x is None else x - avg for x in xs]"
      ],
      "execution_count": 9,
      "outputs": []
    },
    {
      "cell_type": "code",
      "execution_count": 10,
      "metadata": {},
      "outputs": [
        {
          "output_type": "execute_result",
          "data": {
            "text/plain": [
              "       item0  item1  item2  item3\n",
              "user0   1.50  -1.50    0.0    0.0\n",
              "user1   1.50  -1.50    0.0    0.0\n",
              "user2   0.00   0.00   -0.5    0.5\n",
              "user3  -1.75   1.75    0.0    0.0\n",
              "user4  -1.75   1.75    0.0    0.0"
            ],
            "text/html": "<div>\n<style scoped>\n    .dataframe tbody tr th:only-of-type {\n        vertical-align: middle;\n    }\n\n    .dataframe tbody tr th {\n        vertical-align: top;\n    }\n\n    .dataframe thead th {\n        text-align: right;\n    }\n</style>\n<table border=\"1\" class=\"dataframe\">\n  <thead>\n    <tr style=\"text-align: right;\">\n      <th></th>\n      <th>item0</th>\n      <th>item1</th>\n      <th>item2</th>\n      <th>item3</th>\n    </tr>\n  </thead>\n  <tbody>\n    <tr>\n      <th>user0</th>\n      <td>1.50</td>\n      <td>-1.50</td>\n      <td>0.0</td>\n      <td>0.0</td>\n    </tr>\n    <tr>\n      <th>user1</th>\n      <td>1.50</td>\n      <td>-1.50</td>\n      <td>0.0</td>\n      <td>0.0</td>\n    </tr>\n    <tr>\n      <th>user2</th>\n      <td>0.00</td>\n      <td>0.00</td>\n      <td>-0.5</td>\n      <td>0.5</td>\n    </tr>\n    <tr>\n      <th>user3</th>\n      <td>-1.75</td>\n      <td>1.75</td>\n      <td>0.0</td>\n      <td>0.0</td>\n    </tr>\n    <tr>\n      <th>user4</th>\n      <td>-1.75</td>\n      <td>1.75</td>\n      <td>0.0</td>\n      <td>0.0</td>\n    </tr>\n  </tbody>\n</table>\n</div>"
          },
          "metadata": {},
          "execution_count": 10
        }
      ],
      "source": [
        "df = display_matrix([normalise(pt) for pt in pts])\n",
        "df"
      ]
    },
    {
      "cell_type": "code",
      "metadata": {
        "id": "rB0RwCBq0ugs"
      },
      "source": [
        "# TDB: Write a function to predict ratings for a new entry \n",
        "def predicted_rating(x, pts):\n",
        "  clean = list(filter(lambda x: x is not None, pts))\n",
        "  norm_pts = display_matrix([normalise(pt) for pt in pts])\n",
        "\n",
        "  nn = NearestNeighbors(n_neighbors=2)\n",
        "  nn.fit(norm_pts)\n",
        "  distance, index = nn.kneighbors([x])\n",
        "\n",
        "  userA = list(filter(lambda x: x is not None, pts[index[0][0]]))\n",
        "  userB = list(filter(lambda x: x is not None, pts[index[0][1]]))\n",
        "\n",
        "  print(f'Similar to Users: {index[0][0]} and {index[0][1]}')\n",
        "  print('======')\n",
        "  print(f'User {index[0][0]} likes: item{userA.index(max(userA))} most')\n",
        "  print(f'User {index[0][1]} likes: item{userB.index(max(userB))} most\\n')\n",
        "\n",
        "predicted_rating([2, 0, 0, 0], pts)"
      ],
      "execution_count": 11,
      "outputs": [
        {
          "output_type": "stream",
          "name": "stdout",
          "text": [
            "Similar to Users: 0 and 1\n======\nUser 0 likes: item0 most\nUser 1 likes: item0 most\n\n"
          ]
        }
      ]
    },
    {
      "cell_type": "code",
      "execution_count": 13,
      "metadata": {},
      "outputs": [
        {
          "output_type": "stream",
          "name": "stdout",
          "text": [
            "Similar to Users: 11 and 0\n======\nUser 11 likes: item0 most\nUser 0 likes: item0 most\n\nSimilar to Users: 3 and 6\n======\nUser 3 likes: item1 most\nUser 6 likes: item1 most\n\nSimilar to Users: 2 and 7\n======\nUser 2 likes: item1 most\nUser 7 likes: item0 most\n\n"
          ]
        }
      ],
      "source": [
        "pts = [\n",
        "    [4, 1, None, None],\n",
        "    [3.5, 0.5, None, 2],\n",
        "    [None, None, 3, 4],\n",
        "    [0.5, 4, None, None],\n",
        "    [2.5, 3, None, None],\n",
        "    [3, 2, None, None],\n",
        "    [3.5, 5, None, 1],\n",
        "    [None, None, 5, 5],\n",
        "    [None, None, 4, 3],\n",
        "    [None, None, 4, 3],\n",
        "    [3.5, 2, None, None],\n",
        "    [4.5, 1, None, None]\n",
        "]\n",
        "\n",
        "predicted_rating([4.5, 1, 0, 0], pts)\n",
        "predicted_rating([0, 5, 0, 0], pts)\n",
        "predicted_rating([0, 0, 0, 1], pts)"
      ]
    },
    {
      "cell_type": "code",
      "execution_count": null,
      "metadata": {},
      "outputs": [],
      "source": []
    }
  ]
}