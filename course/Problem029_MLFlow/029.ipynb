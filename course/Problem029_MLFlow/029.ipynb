{
 "cells": [
  {
   "source": [
    "<img src=\"../../img/mldlc2.png\" width=\"900\">"
   ],
   "cell_type": "markdown",
   "metadata": {}
  },
  {
   "source": [
    "## KFold and StratifiedKFold train test split"
   ],
   "cell_type": "markdown",
   "metadata": {}
  },
  {
   "source": [
    "from sklearn.model_selection import KFold\n",
    "import numpy as np\n",
    "\n",
    "X = np.array([[1, 2], [3, 4], [4, 5], [4, 4], [5, 6], [6, 7], [8, 9], [9, 10], [11, 12]])\n",
    "Y = np.array([0, 0, 0, 1, 1, 1, 2, 2, 2])\n",
    "\n",
    "# 3 Fold split\n",
    "kf = KFold(n_splits=3, shuffle=True, random_state=101)\n",
    "for train_indices, test_indices in kf.split(X, Y):\n",
    "   print(\"train indices:\", train_indices, \"test indices:\", test_indices)\n",
    "   X_train, X_test = X[train_indices], X[test_indices]\n",
    "   Y_train, Y_test = Y[train_indices], Y[test_indices]\n",
    "\n",
    "\n",
    "#StratifiedKFold distributes the target labels within fold in same ratio in which they appear in main dataset\n",
    "\n",
    "# TBD: Use StratifiedKFold to split X and Y into 3 fold train test set and verify that all the three target labels (0, 1, 2) are present in each fold\n"
   ],
   "cell_type": "code",
   "metadata": {},
   "execution_count": null,
   "outputs": []
  },
  {
   "source": [
    "## GridSearch CV (Search for a best set of hyperparams for a given model)"
   ],
   "cell_type": "markdown",
   "metadata": {}
  },
  {
   "cell_type": "code",
   "execution_count": 16,
   "metadata": {},
   "outputs": [],
   "source": [
    "import numpy as np\n",
    "from sklearn.model_selection import GridSearchCV\n",
    "\n",
    "def grid_summary(grid_result):\n",
    "    print(f\"Best: {grid_result.best_score_} using {grid_result.best_params_}\")\n",
    "    means = grid_result.cv_results_['mean_test_score']\n",
    "    stds = grid_result.cv_results_['std_test_score']\n",
    "    params = grid_result.cv_results_['params']\n",
    "    for mean, stdev, param in zip(means, stds, params):\n",
    "        print(f\"{mean},{stdev} with: {param}\")"
   ]
  },
  {
   "source": [
    "## Randomized GridSearch CV"
   ],
   "cell_type": "markdown",
   "metadata": {}
  },
  {
   "source": [
    "## GridSearch CV (Search for a best set of hyperparams across various models)\n"
   ],
   "cell_type": "markdown",
   "metadata": {}
  }
 ],
 "metadata": {
  "kernelspec": {
   "name": "python3",
   "display_name": "Python 3.8.2 64-bit ('pml': venv)",
   "metadata": {
    "interpreter": {
     "hash": "a4c9474aacc61cf72d0f1c29f4a339e5d6b2171c287541cfd684cf058783219b"
    }
   }
  },
  "language_info": {
   "codemirror_mode": {
    "name": "ipython",
    "version": 3
   },
   "file_extension": ".py",
   "mimetype": "text/x-python",
   "name": "python",
   "nbconvert_exporter": "python",
   "pygments_lexer": "ipython3",
   "version": "3.8.2-final"
  }
 },
 "nbformat": 4,
 "nbformat_minor": 2
}