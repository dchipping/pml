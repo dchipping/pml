{
 "cells": [
  {
   "cell_type": "markdown",
   "metadata": {},
   "source": [
    "## What does linear model do\n"
   ]
  },
  {
   "cell_type": "markdown",
   "metadata": {},
   "source": [
    "## 1-dimensional input (feature)"
   ]
  },
  {
   "cell_type": "code",
   "execution_count": 12,
   "metadata": {
    "scrolled": true
   },
   "outputs": [
    {
     "name": "stdout",
     "output_type": "stream",
     "text": [
      "7.000000000000003\n"
     ]
    }
   ],
   "source": [
    "import numpy as np\n",
    "from sklearn import linear_model\n",
    "X_train = np.array([[1],[2],[3],[4]])\n",
    "Y_train = np.array([1,2,3,4])\n",
    "\n",
    "#TBD fit linear model and predict for x=7\n",
    "model = linear_model.LinearRegression()\n",
    "regression_one = model.fit(X_train, Y_train)\n",
    "X_test = np.array([7])\n",
    "result_one = regression_one.predict(X_test.reshape(1,-1))\n",
    "print(result_one[0])"
   ]
  },
  {
   "cell_type": "code",
   "execution_count": 13,
   "metadata": {},
   "outputs": [
    {
     "name": "stdout",
     "output_type": "stream",
     "text": [
      "9.000000000000004\n"
     ]
    }
   ],
   "source": [
    "X_train = np.array([[1],[2],[3],[4]])\n",
    "Y_train = np.array([3,4,5,6])\n",
    "\n",
    "#TBD fit linear model and predict for x=7\n",
    "regression_two = model.fit(X_train, Y_train)\n",
    "X_test = np.array([7])\n",
    "result_two = regression_two.predict(X_test.reshape(1,-1))\n",
    "print(result_two[0])"
   ]
  },
  {
   "cell_type": "code",
   "execution_count": 14,
   "metadata": {},
   "outputs": [
    {
     "name": "stdout",
     "output_type": "stream",
     "text": [
      "3.0106150483921326\n"
     ]
    }
   ],
   "source": [
    "X_train = np.array([[0],[0.1],[2],[2.1],[4],[4.1]])\n",
    "Y_train = np.array([0,2,1,3,2,4])\n",
    "\n",
    "#TBD fit linear model and predict for x=4\n",
    "regression_three = model.fit(X_train, Y_train)\n",
    "X_test = np.array([4])\n",
    "result_three = regression_three.predict(X_test.reshape(1,-1))\n",
    "print(result_three[0])"
   ]
  },
  {
   "cell_type": "code",
   "execution_count": 20,
   "metadata": {},
   "outputs": [
    {
     "data": {
      "text/plain": [
       "[<matplotlib.lines.Line2D at 0x7fe6505c4190>]"
      ]
     },
     "execution_count": 20,
     "metadata": {},
     "output_type": "execute_result"
    },
    {
     "data": {
      "image/png": "[encoded data removed]",
      "text/plain": [
       "<Figure size 432x288 with 1 Axes>"
      ]
     },
     "metadata": {
      "needs_background": "light"
     },
     "output_type": "display_data"
    }
   ],
   "source": [
    "#TBD Plot above 3 models\n",
    "import matplotlib.pyplot as plt\n",
    "fig = plt.figure()\n",
    "\n",
    "\n",
    "X = np.linspace(0,5)\n",
    "\n",
    "fig.add_subplot(1,1,1)\n",
    "Y1 = regression_one.predict(X.reshape(-1, 1))\n",
    "plt.plot(X, Y1)\n",
    "\n",
    "# fig.add_subplot(1,1,1)\n",
    "Y2 = regression_two.predict(X.reshape(-1, 1))\n",
    "plt.plot(X, Y2)\n",
    "\n",
    "# fig.add_subplot(1,1,1)\n",
    "Y3 = regression_three.predict(X.reshape(-1, 1))\n",
    "plt.plot(X, Y3)\n"
   ]
  },
  {
   "cell_type": "markdown",
   "metadata": {},
   "source": [
    "## 2 dimensional input (features)"
   ]
  },
  {
   "cell_type": "code",
   "execution_count": 6,
   "metadata": {},
   "outputs": [],
   "source": [
    "from random import random, seed\n",
    "\n",
    "n = 50\n",
    "seed(1)                                     \n",
    "X_train = [[random(), random()] for i in range(n)]              \n",
    "Y_train = [random() for i in range(n)]\n",
    "\n",
    "#TBD fit linear model and predict for x=(7,8)"
   ]
  },
  {
   "cell_type": "code",
   "execution_count": 7,
   "metadata": {},
   "outputs": [],
   "source": [
    "#Plot above model"
   ]
  },
  {
   "cell_type": "markdown",
   "metadata": {},
   "source": [
    "## 13 dimensional input (features)"
   ]
  },
  {
   "cell_type": "code",
   "execution_count": 11,
   "metadata": {},
   "outputs": [],
   "source": [
    "from sklearn.datasets import load_boston\n",
    "#TBD Load boston dataset\n",
    "X, Y = load_boston(return_X_y=True)"
   ]
  },
  {
   "cell_type": "code",
   "execution_count": 12,
   "metadata": {},
   "outputs": [],
   "source": [
    "from sklearn.model_selection import train_test_split\n",
    "#TBD Split into Train and Test dataset. random 90% 10%\n",
    "X_train, X_test, Y_train, Y_test = train_test_split(X, Y, test_size = 0.1, random_state = 12)"
   ]
  },
  {
   "cell_type": "code",
   "execution_count": 13,
   "metadata": {},
   "outputs": [],
   "source": [
    "from sklearn.linear_model import LinearRegression\n",
    "#TBD Fit linear model on Training data\n",
    "model = LinearRegression()\n",
    "regression_model = model.fit(X_train, Y_train)"
   ]
  },
  {
   "cell_type": "code",
   "execution_count": 14,
   "metadata": {},
   "outputs": [],
   "source": [
    "#TBD Predict for Test data\n",
    "Y_hat = model.predict(X_test)"
   ]
  },
  {
   "cell_type": "code",
   "execution_count": 15,
   "metadata": {},
   "outputs": [
    {
     "data": {
      "text/plain": [
       "20.57679442800353"
      ]
     },
     "execution_count": 15,
     "metadata": {},
     "output_type": "execute_result"
    }
   ],
   "source": [
    "from sklearn.metrics import mean_squared_error\n",
    "#TBD Mean squared error for your predictions\n",
    "mean_squared_error(Y_test, Y_hat)"
   ]
  },
  {
   "cell_type": "markdown",
   "metadata": {},
   "source": [
    "## Problems with linear model\n",
    "![title](../../img/anscombe_quartet.png)\n",
    "\n",
    "### Ansombe Quartet \n",
    "y = x/2 + 3"
   ]
  },
  {
   "cell_type": "code",
   "execution_count": null,
   "metadata": {},
   "outputs": [],
   "source": []
  }
 ],
 "metadata": {
  "kernelspec": {
   "display_name": "Python 3",
   "language": "python",
   "name": "python3"
  },
  "language_info": {
   "codemirror_mode": {
    "name": "ipython",
    "version": 3
   },
   "file_extension": ".py",
   "mimetype": "text/x-python",
   "name": "python",
   "nbconvert_exporter": "python",
   "pygments_lexer": "ipython3",
   "version": "3.7.6"
  }
 },
 "nbformat": 4,
 "nbformat_minor": 2
}
