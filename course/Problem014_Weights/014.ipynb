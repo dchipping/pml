{
 "cells": [
  {
   "cell_type": "markdown",
   "metadata": {
    "scrolled": true
   },
   "source": [
    "## Weights or Coeffecients or Theta or Strength of Connection etc"
   ]
  },
  {
   "cell_type": "code",
   "execution_count": 7,
   "metadata": {},
   "outputs": [],
   "source": [
    "#TBD Load boston dataset\n",
    "from sklearn.datasets import load_boston\n",
    "data = load_boston()\n",
    "dir(data)\n",
    "\n",
    "#TBD Split into Train and Test dataset. random 90% 10%\n",
    "from sklearn.model_selection import train_test_split\n",
    "X = data[\"data\"]\n",
    "Y = data[\"target\"]\n",
    "X_train, X_test, Y_train, Y_test = train_test_split(X, Y, test_size = 0.1)\n",
    "\n",
    "#TBD Fit linear model on Training data\n",
    "from sklearn.linear_model import LinearRegression\n",
    "model = LinearRegression()\n",
    "model.fit(X_train, Y_train)\n",
    "\n",
    "#TBD From the model get the weights\n",
    "weights = model.coef_"
   ]
  },
  {
   "cell_type": "markdown",
   "metadata": {},
   "source": [
    "## A special weight:  Bias or Intercept"
   ]
  },
  {
   "cell_type": "code",
   "execution_count": 8,
   "metadata": {},
   "outputs": [],
   "source": [
    "# TBD: From above model get the Bias term\n",
    "bias = model.intercept_"
   ]
  },
  {
   "cell_type": "code",
   "execution_count": 9,
   "metadata": {},
   "outputs": [
    {
     "data": {
      "text/plain": [
       "0.0"
      ]
     },
     "execution_count": 9,
     "metadata": {},
     "output_type": "execute_result"
    }
   ],
   "source": [
    "# TBD: Using weights and bias to simulate above model predict for training data Y_hat1\n",
    "Y_hat1 = np.dot(X_test, weights) + bias\n",
    "\n",
    "# TBD: Using model.predict predict for training data Y_hat2\n",
    "Y_hat2 = model.predict(X_test)\n",
    "\n",
    "# TBD: Mean squared error for Y_hat1, Y_hat2 (They must be very close, nearly equal)\n",
    "from sklearn.metrics import mean_squared_error\n",
    "mean_squared_error(Y_hat1, Y_hat2)"
   ]
  },
  {
   "cell_type": "code",
   "execution_count": null,
   "metadata": {},
   "outputs": [],
   "source": []
  }
 ],
 "metadata": {
  "kernelspec": {
   "display_name": "Python 3",
   "language": "python",
   "name": "python3"
  },
  "language_info": {
   "codemirror_mode": {
    "name": "ipython",
    "version": 3
   },
   "file_extension": ".py",
   "mimetype": "text/x-python",
   "name": "python",
   "nbconvert_exporter": "python",
   "pygments_lexer": "ipython3",
   "version": "3.7.6"
  }
 },
 "nbformat": 4,
 "nbformat_minor": 2
}
