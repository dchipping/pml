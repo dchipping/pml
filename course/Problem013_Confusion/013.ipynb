{
 "cells": [
  {
   "cell_type": "markdown",
   "metadata": {
    "scrolled": true
   },
   "source": [
    "# How to evaluate following systems?\n",
    "\n",
    "## Credit Approval (Yes/No)\n",
    "## Covid detection (Positive/Negative)\n",
    "## Court guilty judgement (Guilty/Not Guilty)\n",
    "## Spam detection (Spam/Ham)\n",
    "## Anomaly detection (Anomaly/Normal)\n"
   ]
  },
  {
   "cell_type": "code",
   "execution_count": 3,
   "metadata": {},
   "outputs": [],
   "source": [
    "# Some classification process under study generated following labels \n",
    "Y =  [1, 0, 0, 0, 0, 0, 0, 0, 0, 0]\n",
    "\n",
    "# 2 classification models trying to approximate above process produced following end predictions\n",
    "Y_hat1 = [0, 0, 0, 0, 0, 0, 0, 0, 0, 0]\n",
    "Y_hat2 = [1, 0, 0, 1, 1, 0, 0, 0, 0, 0]\n",
    "\n",
    "#TBD Which is the better model"
   ]
  },
  {
   "cell_type": "code",
   "execution_count": 36,
   "metadata": {},
   "outputs": [
    {
     "name": "stdout",
     "output_type": "stream",
     "text": [
      "Y_hat1: 0.9\n",
      "Y_hat2: 0.8\n"
     ]
    }
   ],
   "source": [
    "# TBD: Compute accuracy of the models\n",
    "from sklearn.metrics import accuracy_score\n",
    "print(f\"Y_hat1: {accuracy_score(Y, Y_hat1)}\")\n",
    "print(f\"Y_hat2: {accuracy_score(Y, Y_hat2)}\")"
   ]
  },
  {
   "cell_type": "code",
   "execution_count": 16,
   "metadata": {},
   "outputs": [
    {
     "name": "stdout",
     "output_type": "stream",
     "text": [
      "Y_hat_1:\n",
      " [[9 0]\n",
      " [1 0]]\n",
      "Y_hat_2:\n",
      " [[7 2]\n",
      " [0 1]]\n"
     ]
    }
   ],
   "source": [
    "# TBD: Compute confusion matrix for the models\n",
    "from sklearn.metrics import confusion_matrix\n",
    "print(f\"Y_hat_1:\\n {confusion_matrix(Y, Y_hat1)}\")\n",
    "print(f\"Y_hat_2:\\n {confusion_matrix(Y, Y_hat2)}\")"
   ]
  },
  {
   "cell_type": "code",
   "execution_count": 35,
   "metadata": {},
   "outputs": [
    {
     "name": "stdout",
     "output_type": "stream",
     "text": [
      "Y_hat_1:\n",
      "Precision: 1.0\n",
      "Recall: 1.0\n",
      "F1 Score: 0.0\n",
      "Y_hat_2:\n",
      "Precision: 0.3333333333333333\n",
      "Recall: 0.3333333333333333\n",
      "F1 Score: 0.5\n"
     ]
    }
   ],
   "source": [
    "# TBD: Compute precision, recall and f1 score for the models\n",
    "from sklearn.metrics import precision_score, recall_score, f1_score\n",
    "zero_division = print(f\"Y_hat_1:\\nPrecision: {precision_score(Y, Y_hat1, zero_division = 1)}\\nRecall: {precision_score(Y, Y_hat1, zero_division = 1)}\\nF1 Score: {f1_score(Y, Y_hat1, zero_division = 1)}\")\n",
    "zero_division = print(f\"Y_hat_2:\\nPrecision: {precision_score(Y, Y_hat2, zero_division = 1)}\\nRecall: {precision_score(Y, Y_hat2, zero_division = 1)}\\nF1 Score: {f1_score(Y, Y_hat2, zero_division = 1)}\")"
   ]
  },
  {
   "cell_type": "code",
   "execution_count": null,
   "metadata": {},
   "outputs": [],
   "source": []
  }
 ],
 "metadata": {
  "kernelspec": {
   "display_name": "Python 3",
   "language": "python",
   "name": "python3"
  },
  "language_info": {
   "codemirror_mode": {
    "name": "ipython",
    "version": 3
   },
   "file_extension": ".py",
   "mimetype": "text/x-python",
   "name": "python",
   "nbconvert_exporter": "python",
   "pygments_lexer": "ipython3",
   "version": "3.7.6"
  }
 },
 "nbformat": 4,
 "nbformat_minor": 2
}
